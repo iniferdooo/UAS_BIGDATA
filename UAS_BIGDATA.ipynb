```python
"""
Spotify Songs Dataset Documentation
====================================

This document provides a detailed overview of the Spotify Songs dataset, its variables, and metadata. It also includes documentation for the Incarceration Trends Dataset, offering insights into its origins, purpose, and variable descriptions.

Spotify Songs Dataset
---------------------
### Data Information
The Spotify Songs dataset contains extensive information about tracks available on Spotify, including metadata, audio features, and popularity metrics.

#### Data Source
The data comes from the TidyTuesday project, which gathers datasets for public analysis and visualization challenges.

#### Data Structure
- Total Columns: 88
- Total Rows: Variable (depends on subset selected)

### Data Variables
Below are some of the key variables in the dataset:

| Variable Name         | Type     | Description                                  |
|-----------------------|----------|----------------------------------------------|
| user_id              | String   | Unique ID of the user                       |
| status_id            | String   | Unique ID of the status                     |
| created_at           | Double   | Timestamp of status creation                |
| screen_name          | String   | Screen name of the user                     |
| text                 | String   | Content of the tweet                        |
| source               | String   | Source application                          |
| favorite_count       | Integer  | Number of likes                             |
| retweet_count        | Integer  | Number of retweets                          |
| hashtags             | List     | Hashtags used in the tweet                  |
| lang                 | String   | Language of the tweet                       |

### Metadata
Additional metadata includes variables for quoted tweets, retweets, geographic information, and user profile details.

---

Incarceration Trends Dataset
----------------------------
### Data Information
The Incarceration Trends dataset, developed by the Vera Institute of Justice, provides county-level jail data (1970-2015) and prison data (1983-2015) in the United States.

#### Purpose
The dataset aims to highlight racial and social discrepancies in the US prison system and provide insights into incarceration trends at a granular level.

#### Project History
- First released in December 2015 as part of the "In Our Own Backyard" project.
- Funded by the Robert W. Wilson Charitable Trust and later supported by Google.org and the MacArthur Foundation.

#### Data Files
| File Name                 | Description                                             |
|---------------------------|---------------------------------------------------------|
| prison_summary.csv        | Summary of prison population by year and county-type    |
| pretrial_summary.csv      | Summary of pretrial incarceration by year and county-type |
| prison_population.csv     | County-level data for prison population                 |
| pretrial_population.csv   | County-level data for pretrial incarceration            |
| incarceration_trends.csv  | Full raw data                                           |

### Variable Descriptions

#### Prison Summary
| Variable          | Type       | Description                                      |
|-------------------|------------|--------------------------------------------------|
| year              | Integer    | Year                                             |
| urbanicity        | Character  | County-type (urban, suburban, small/mid, rural) |
| pop_category      | Character  | Population category (race, gender, Total)       |
| rate_per_100000   | Double     | Prison population rate per 100,000 people       |

#### Pretrial Summary
| Variable          | Type       | Description                                      |
|-------------------|------------|--------------------------------------------------|
| year              | Integer    | Year                                             |
| urbanicity        | Character  | County-type (urban, suburban, small/mid, rural) |
| pop_category      | Character  | Population category (race, gender, Total)       |
| rate_per_100000   | Double     | Pretrial population rate per 100,000 people     |

#### Prison Population
| Variable          | Type       | Description                                      |
|-------------------|------------|--------------------------------------------------|
| year              | Integer    | Year                                             |
| state             | Character  | State code                                       |
| county_name       | Character  | County Name                                      |
| urbanicity        | Character  | County-type (urban, suburban, small/mid, rural) |
| region            | Character  | Region of US                                     |
| division          | Character  | Division of US                                   |
| pop_category      | Character  | Population category (race, gender, Total)       |
| population        | Integer    | Total individuals in category (aged 15-64)      |
| prison_population | Integer    | Individuals in prison for each category         |

#### Pretrial Population
| Variable          | Type       | Description                                      |
|-------------------|------------|--------------------------------------------------|
| year              | Integer    | Year                                             |
| state             | Character  | State code                                       |
| county_name       | Character  | County Name                                      |
| urbanicity        | Character  | County-type (urban, suburban, small/mid, rural) |
| region            | Character  | Region of US                                     |
| division          | Character  | Division of US                                   |
| pop_category      | Character  | Population category (race, gender, Total)       |
| population        | Integer    | Total individuals in category (aged 15-64)      |
| pretrial_population | Integer  | Individuals incarcerated for each category       |

---

### Additional Information

#### Methodology
- Jail data methodology.
- Prison data methodology.

#### Licensing
By downloading the data, you agree to the terms specified in the license provided by the Vera Institute of Justice.

#### Contact
For questions, contact the Vera Institute of Justice at trends@vera.org or Jacob Kang-Brown at:
233 Broadway, 12th Floor,
New York, NY 10279.

---

"""
```
